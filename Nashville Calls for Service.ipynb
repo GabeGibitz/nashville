{
 "cells": [
  {
   "cell_type": "markdown",
   "metadata": {},
   "source": [
    "# Calls for Service in the City of Nashville\n",
    "#### Gabe Gibitz"
   ]
  },
  {
   "cell_type": "markdown",
   "metadata": {},
   "source": [
    "The city of Nashville makes much of their city's data accessible in order to encourage partnership between the general public and the city to make Nashville an even better place to live. We will be taking a look at the service calls for the city of Nashville across the span of five years -- from 2016 to 2020.\n",
    "\n",
    "From first look, the 19 columns (features) are consistent from year to year, so that will allow us to easily make comparisons from year to year.\n",
    "\n",
    "Let's dive in!"
   ]
  },
  {
   "cell_type": "code",
   "execution_count": 1,
   "metadata": {},
   "outputs": [],
   "source": [
    "import pandas as pd\n",
    "import matplotlib as plt\n",
    "import seaborn as sns"
   ]
  },
  {
   "cell_type": "markdown",
   "metadata": {},
   "source": [
    "#### Import and Wrangle the Data"
   ]
  },
  {
   "cell_type": "code",
   "execution_count": 2,
   "metadata": {},
   "outputs": [],
   "source": [
    "df16 = pd.read_csv('data/Metro_Nashville_Police_Department_Calls_for_Service__2016_.csv')"
   ]
  },
  {
   "cell_type": "code",
   "execution_count": 3,
   "metadata": {},
   "outputs": [],
   "source": [
    "df17 = pd.read_csv('data/Metro_Nashville_Police_Department_Calls_for_Service__2017_.csv')"
   ]
  },
  {
   "cell_type": "code",
   "execution_count": 4,
   "metadata": {},
   "outputs": [],
   "source": [
    "df18 = pd.read_csv('data/Metro_Nashville_Police_Department_Calls_for_Service__2018_.csv')"
   ]
  },
  {
   "cell_type": "code",
   "execution_count": 5,
   "metadata": {},
   "outputs": [],
   "source": [
    "df19 = pd.read_csv('data/Metro_Nashville_Police_Department_Calls_for_Service__2019_.csv')"
   ]
  },
  {
   "cell_type": "markdown",
   "metadata": {},
   "source": [
    "I originally imported 2020's dataframe, but it has information all the way back to 2012. I would need to spend some quality time with this CSV, so I'm going to drop it for now (especially because 2020 is still in Q3 at the time of this code)."
   ]
  },
  {
   "cell_type": "code",
   "execution_count": 6,
   "metadata": {},
   "outputs": [
    {
     "data": {
      "text/html": [
       "<div>\n",
       "<style scoped>\n",
       "    .dataframe tbody tr th:only-of-type {\n",
       "        vertical-align: middle;\n",
       "    }\n",
       "\n",
       "    .dataframe tbody tr th {\n",
       "        vertical-align: top;\n",
       "    }\n",
       "\n",
       "    .dataframe thead th {\n",
       "        text-align: right;\n",
       "    }\n",
       "</style>\n",
       "<table border=\"1\" class=\"dataframe\">\n",
       "  <thead>\n",
       "    <tr style=\"text-align: right;\">\n",
       "      <th></th>\n",
       "      <th>Event Number</th>\n",
       "      <th>Call Received</th>\n",
       "      <th>Complaint Number</th>\n",
       "      <th>Shift</th>\n",
       "      <th>Tencode</th>\n",
       "      <th>Tencode Description</th>\n",
       "      <th>Tencode Suffix</th>\n",
       "      <th>Tencode Suffix Description</th>\n",
       "      <th>Disposition Code</th>\n",
       "      <th>Disposition Description</th>\n",
       "      <th>Block</th>\n",
       "      <th>Street Name</th>\n",
       "      <th>Unit Dispatched</th>\n",
       "      <th>Sector</th>\n",
       "      <th>Zone</th>\n",
       "      <th>RPA</th>\n",
       "      <th>Latitude</th>\n",
       "      <th>Longitude</th>\n",
       "      <th>Mapped Location</th>\n",
       "    </tr>\n",
       "  </thead>\n",
       "  <tbody>\n",
       "    <tr>\n",
       "      <th>0</th>\n",
       "      <td>PD201600000001</td>\n",
       "      <td>01/01/2016 12:00:00 AM</td>\n",
       "      <td>20160000002</td>\n",
       "      <td>C</td>\n",
       "      <td>96</td>\n",
       "      <td>Business Check</td>\n",
       "      <td>NaN</td>\n",
       "      <td>NaN</td>\n",
       "      <td>12</td>\n",
       "      <td>LOCATION/BUILDING SECURE</td>\n",
       "      <td>300.0</td>\n",
       "      <td>HERRON DR</td>\n",
       "      <td>311C</td>\n",
       "      <td>S</td>\n",
       "      <td>11.0</td>\n",
       "      <td>8125.0</td>\n",
       "      <td>36.133</td>\n",
       "      <td>-86.752</td>\n",
       "      <td>(36.133, -86.752)</td>\n",
       "    </tr>\n",
       "    <tr>\n",
       "      <th>1</th>\n",
       "      <td>PD201600000002</td>\n",
       "      <td>01/01/2016 12:00:00 AM</td>\n",
       "      <td>20160000003</td>\n",
       "      <td>C</td>\n",
       "      <td>96</td>\n",
       "      <td>Business Check</td>\n",
       "      <td>NaN</td>\n",
       "      <td>NaN</td>\n",
       "      <td>12</td>\n",
       "      <td>LOCATION/BUILDING SECURE</td>\n",
       "      <td>500.0</td>\n",
       "      <td>MAIN ST</td>\n",
       "      <td>213C</td>\n",
       "      <td>E</td>\n",
       "      <td>11.0</td>\n",
       "      <td>1113.0</td>\n",
       "      <td>36.173</td>\n",
       "      <td>-86.764</td>\n",
       "      <td>(36.173, -86.764)</td>\n",
       "    </tr>\n",
       "    <tr>\n",
       "      <th>2</th>\n",
       "      <td>PD201600000003</td>\n",
       "      <td>01/01/2016 12:00:00 AM</td>\n",
       "      <td>20160000017</td>\n",
       "      <td>C</td>\n",
       "      <td>45</td>\n",
       "      <td>Vehicle Accident - Property Damage</td>\n",
       "      <td>P</td>\n",
       "      <td>PROGRESS</td>\n",
       "      <td>1</td>\n",
       "      <td>M.P.D. REPORT COMPLED</td>\n",
       "      <td>0.0</td>\n",
       "      <td>EDMONDSON PKE &amp; MCMURRAY DR</td>\n",
       "      <td>835C</td>\n",
       "      <td>MT</td>\n",
       "      <td>33.0</td>\n",
       "      <td>8657.0</td>\n",
       "      <td>36.055</td>\n",
       "      <td>-86.743</td>\n",
       "      <td>(36.055, -86.743)</td>\n",
       "    </tr>\n",
       "    <tr>\n",
       "      <th>3</th>\n",
       "      <td>PD201600000004</td>\n",
       "      <td>01/01/2016 12:00:00 AM</td>\n",
       "      <td>0</td>\n",
       "      <td>C</td>\n",
       "      <td>83</td>\n",
       "      <td>Shots Fired</td>\n",
       "      <td>P</td>\n",
       "      <td>PROGRESS</td>\n",
       "      <td>11</td>\n",
       "      <td>DISREGARD / SIGNAL 9</td>\n",
       "      <td>500.0</td>\n",
       "      <td>S 5TH ST</td>\n",
       "      <td>NaN</td>\n",
       "      <td>E</td>\n",
       "      <td>11.0</td>\n",
       "      <td>1011.0</td>\n",
       "      <td>36.167</td>\n",
       "      <td>-86.762</td>\n",
       "      <td>(36.167, -86.762)</td>\n",
       "    </tr>\n",
       "    <tr>\n",
       "      <th>4</th>\n",
       "      <td>PD201600000005</td>\n",
       "      <td>01/01/2016 12:00:00 AM</td>\n",
       "      <td>20160000005</td>\n",
       "      <td>C</td>\n",
       "      <td>96</td>\n",
       "      <td>Business Check</td>\n",
       "      <td>NaN</td>\n",
       "      <td>NaN</td>\n",
       "      <td>12</td>\n",
       "      <td>LOCATION/BUILDING SECURE</td>\n",
       "      <td>1100.0</td>\n",
       "      <td>BELL RD</td>\n",
       "      <td>333C</td>\n",
       "      <td>S</td>\n",
       "      <td>25.0</td>\n",
       "      <td>8721.0</td>\n",
       "      <td>36.046</td>\n",
       "      <td>-86.666</td>\n",
       "      <td>(36.046, -86.666)</td>\n",
       "    </tr>\n",
       "  </tbody>\n",
       "</table>\n",
       "</div>"
      ],
      "text/plain": [
       "     Event Number           Call Received  Complaint Number Shift  Tencode  \\\n",
       "0  PD201600000001  01/01/2016 12:00:00 AM       20160000002     C       96   \n",
       "1  PD201600000002  01/01/2016 12:00:00 AM       20160000003     C       96   \n",
       "2  PD201600000003  01/01/2016 12:00:00 AM       20160000017     C       45   \n",
       "3  PD201600000004  01/01/2016 12:00:00 AM                 0     C       83   \n",
       "4  PD201600000005  01/01/2016 12:00:00 AM       20160000005     C       96   \n",
       "\n",
       "                  Tencode Description Tencode Suffix  \\\n",
       "0                      Business Check            NaN   \n",
       "1                      Business Check            NaN   \n",
       "2  Vehicle Accident - Property Damage              P   \n",
       "3                         Shots Fired              P   \n",
       "4                      Business Check            NaN   \n",
       "\n",
       "  Tencode Suffix Description  Disposition Code   Disposition Description  \\\n",
       "0                        NaN                12  LOCATION/BUILDING SECURE   \n",
       "1                        NaN                12  LOCATION/BUILDING SECURE   \n",
       "2                   PROGRESS                 1     M.P.D. REPORT COMPLED   \n",
       "3                   PROGRESS                11      DISREGARD / SIGNAL 9   \n",
       "4                        NaN                12  LOCATION/BUILDING SECURE   \n",
       "\n",
       "    Block                  Street Name Unit Dispatched Sector  Zone     RPA  \\\n",
       "0   300.0                   HERRON DR             311C      S  11.0  8125.0   \n",
       "1   500.0                     MAIN ST             213C      E  11.0  1113.0   \n",
       "2     0.0  EDMONDSON PKE & MCMURRAY DR            835C     MT  33.0  8657.0   \n",
       "3   500.0                    S 5TH ST              NaN      E  11.0  1011.0   \n",
       "4  1100.0                     BELL RD             333C      S  25.0  8721.0   \n",
       "\n",
       "   Latitude  Longitude    Mapped Location  \n",
       "0    36.133    -86.752  (36.133, -86.752)  \n",
       "1    36.173    -86.764  (36.173, -86.764)  \n",
       "2    36.055    -86.743  (36.055, -86.743)  \n",
       "3    36.167    -86.762  (36.167, -86.762)  \n",
       "4    36.046    -86.666  (36.046, -86.666)  "
      ]
     },
     "execution_count": 6,
     "metadata": {},
     "output_type": "execute_result"
    }
   ],
   "source": [
    "df16.head()"
   ]
  },
  {
   "cell_type": "code",
   "execution_count": 7,
   "metadata": {},
   "outputs": [
    {
     "name": "stdout",
     "output_type": "stream",
     "text": [
      "<class 'pandas.core.frame.DataFrame'>\n",
      "RangeIndex: 1127959 entries, 0 to 1127958\n",
      "Data columns (total 19 columns):\n",
      " #   Column                      Non-Null Count    Dtype  \n",
      "---  ------                      --------------    -----  \n",
      " 0   Event Number                1127959 non-null  object \n",
      " 1   Call Received               1127959 non-null  object \n",
      " 2   Complaint Number            1127959 non-null  int64  \n",
      " 3   Shift                       1080373 non-null  object \n",
      " 4   Tencode                     1127959 non-null  int64  \n",
      " 5   Tencode Description         1127959 non-null  object \n",
      " 6   Tencode Suffix              607599 non-null   object \n",
      " 7   Tencode Suffix Description  588170 non-null   object \n",
      " 8   Disposition Code            1127959 non-null  int64  \n",
      " 9   Disposition Description     1122349 non-null  object \n",
      " 10  Block                       1089874 non-null  float64\n",
      " 11  Street Name                 1127955 non-null  object \n",
      " 12  Unit Dispatched             1072829 non-null  object \n",
      " 13  Sector                      1077835 non-null  object \n",
      " 14  Zone                        1077835 non-null  float64\n",
      " 15  RPA                         1087923 non-null  float64\n",
      " 16  Latitude                    1082787 non-null  float64\n",
      " 17  Longitude                   1082787 non-null  float64\n",
      " 18  Mapped Location             1082787 non-null  object \n",
      "dtypes: float64(5), int64(3), object(11)\n",
      "memory usage: 163.5+ MB\n"
     ]
    }
   ],
   "source": [
    "df16.info()"
   ]
  },
  {
   "cell_type": "code",
   "execution_count": 8,
   "metadata": {},
   "outputs": [
    {
     "name": "stdout",
     "output_type": "stream",
     "text": [
      "<class 'pandas.core.frame.DataFrame'>\n",
      "Int64Index: 3765700 entries, 0 to 785034\n",
      "Data columns (total 19 columns):\n",
      " #   Column                      Dtype  \n",
      "---  ------                      -----  \n",
      " 0   Event Number                object \n",
      " 1   Call Received               object \n",
      " 2   Complaint Number            int64  \n",
      " 3   Shift                       object \n",
      " 4   Tencode                     int64  \n",
      " 5   Tencode Description         object \n",
      " 6   Tencode Suffix              object \n",
      " 7   Tencode Suffix Description  object \n",
      " 8   Disposition Code            int64  \n",
      " 9   Disposition Description     object \n",
      " 10  Block                       float64\n",
      " 11  Street Name                 object \n",
      " 12  Unit Dispatched             object \n",
      " 13  Sector                      object \n",
      " 14  Zone                        object \n",
      " 15  RPA                         float64\n",
      " 16  Latitude                    float64\n",
      " 17  Longitude                   float64\n",
      " 18  Mapped Location             object \n",
      "dtypes: float64(4), int64(3), object(12)\n",
      "memory usage: 574.6+ MB\n"
     ]
    }
   ],
   "source": [
    "#Let's merge these!\n",
    "df = pd.concat([df16, df17, df18, df19], axis=0)\n",
    "df.info()"
   ]
  },
  {
   "cell_type": "code",
   "execution_count": 9,
   "metadata": {},
   "outputs": [
    {
     "data": {
      "text/html": [
       "<div>\n",
       "<style scoped>\n",
       "    .dataframe tbody tr th:only-of-type {\n",
       "        vertical-align: middle;\n",
       "    }\n",
       "\n",
       "    .dataframe tbody tr th {\n",
       "        vertical-align: top;\n",
       "    }\n",
       "\n",
       "    .dataframe thead th {\n",
       "        text-align: right;\n",
       "    }\n",
       "</style>\n",
       "<table border=\"1\" class=\"dataframe\">\n",
       "  <thead>\n",
       "    <tr style=\"text-align: right;\">\n",
       "      <th></th>\n",
       "      <th>Event Number</th>\n",
       "      <th>Call Received</th>\n",
       "      <th>Complaint Number</th>\n",
       "      <th>Shift</th>\n",
       "      <th>Tencode</th>\n",
       "      <th>Tencode Description</th>\n",
       "      <th>Tencode Suffix</th>\n",
       "      <th>Tencode Suffix Description</th>\n",
       "      <th>Disposition Code</th>\n",
       "      <th>Disposition Description</th>\n",
       "      <th>Block</th>\n",
       "      <th>Street Name</th>\n",
       "      <th>Unit Dispatched</th>\n",
       "      <th>Sector</th>\n",
       "      <th>Zone</th>\n",
       "      <th>RPA</th>\n",
       "      <th>Latitude</th>\n",
       "      <th>Longitude</th>\n",
       "      <th>Mapped Location</th>\n",
       "    </tr>\n",
       "  </thead>\n",
       "  <tbody>\n",
       "    <tr>\n",
       "      <th>0</th>\n",
       "      <td>PD201600000001</td>\n",
       "      <td>01/01/2016 12:00:00 AM</td>\n",
       "      <td>20160000002</td>\n",
       "      <td>C</td>\n",
       "      <td>96</td>\n",
       "      <td>Business Check</td>\n",
       "      <td>NaN</td>\n",
       "      <td>NaN</td>\n",
       "      <td>12</td>\n",
       "      <td>LOCATION/BUILDING SECURE</td>\n",
       "      <td>300.0</td>\n",
       "      <td>HERRON DR</td>\n",
       "      <td>311C</td>\n",
       "      <td>S</td>\n",
       "      <td>11</td>\n",
       "      <td>8125.0</td>\n",
       "      <td>36.133</td>\n",
       "      <td>-86.752</td>\n",
       "      <td>(36.133, -86.752)</td>\n",
       "    </tr>\n",
       "    <tr>\n",
       "      <th>1</th>\n",
       "      <td>PD201600000002</td>\n",
       "      <td>01/01/2016 12:00:00 AM</td>\n",
       "      <td>20160000003</td>\n",
       "      <td>C</td>\n",
       "      <td>96</td>\n",
       "      <td>Business Check</td>\n",
       "      <td>NaN</td>\n",
       "      <td>NaN</td>\n",
       "      <td>12</td>\n",
       "      <td>LOCATION/BUILDING SECURE</td>\n",
       "      <td>500.0</td>\n",
       "      <td>MAIN ST</td>\n",
       "      <td>213C</td>\n",
       "      <td>E</td>\n",
       "      <td>11</td>\n",
       "      <td>1113.0</td>\n",
       "      <td>36.173</td>\n",
       "      <td>-86.764</td>\n",
       "      <td>(36.173, -86.764)</td>\n",
       "    </tr>\n",
       "    <tr>\n",
       "      <th>2</th>\n",
       "      <td>PD201600000003</td>\n",
       "      <td>01/01/2016 12:00:00 AM</td>\n",
       "      <td>20160000017</td>\n",
       "      <td>C</td>\n",
       "      <td>45</td>\n",
       "      <td>Vehicle Accident - Property Damage</td>\n",
       "      <td>P</td>\n",
       "      <td>PROGRESS</td>\n",
       "      <td>1</td>\n",
       "      <td>M.P.D. REPORT COMPLED</td>\n",
       "      <td>0.0</td>\n",
       "      <td>EDMONDSON PKE &amp; MCMURRAY DR</td>\n",
       "      <td>835C</td>\n",
       "      <td>MT</td>\n",
       "      <td>33</td>\n",
       "      <td>8657.0</td>\n",
       "      <td>36.055</td>\n",
       "      <td>-86.743</td>\n",
       "      <td>(36.055, -86.743)</td>\n",
       "    </tr>\n",
       "    <tr>\n",
       "      <th>3</th>\n",
       "      <td>PD201600000004</td>\n",
       "      <td>01/01/2016 12:00:00 AM</td>\n",
       "      <td>0</td>\n",
       "      <td>C</td>\n",
       "      <td>83</td>\n",
       "      <td>Shots Fired</td>\n",
       "      <td>P</td>\n",
       "      <td>PROGRESS</td>\n",
       "      <td>11</td>\n",
       "      <td>DISREGARD / SIGNAL 9</td>\n",
       "      <td>500.0</td>\n",
       "      <td>S 5TH ST</td>\n",
       "      <td>NaN</td>\n",
       "      <td>E</td>\n",
       "      <td>11</td>\n",
       "      <td>1011.0</td>\n",
       "      <td>36.167</td>\n",
       "      <td>-86.762</td>\n",
       "      <td>(36.167, -86.762)</td>\n",
       "    </tr>\n",
       "    <tr>\n",
       "      <th>4</th>\n",
       "      <td>PD201600000005</td>\n",
       "      <td>01/01/2016 12:00:00 AM</td>\n",
       "      <td>20160000005</td>\n",
       "      <td>C</td>\n",
       "      <td>96</td>\n",
       "      <td>Business Check</td>\n",
       "      <td>NaN</td>\n",
       "      <td>NaN</td>\n",
       "      <td>12</td>\n",
       "      <td>LOCATION/BUILDING SECURE</td>\n",
       "      <td>1100.0</td>\n",
       "      <td>BELL RD</td>\n",
       "      <td>333C</td>\n",
       "      <td>S</td>\n",
       "      <td>25</td>\n",
       "      <td>8721.0</td>\n",
       "      <td>36.046</td>\n",
       "      <td>-86.666</td>\n",
       "      <td>(36.046, -86.666)</td>\n",
       "    </tr>\n",
       "    <tr>\n",
       "      <th>5</th>\n",
       "      <td>PD201600000006</td>\n",
       "      <td>01/01/2016 12:00:00 AM</td>\n",
       "      <td>20160000006</td>\n",
       "      <td>C</td>\n",
       "      <td>46</td>\n",
       "      <td>Vehicle Accident - Personal Injury</td>\n",
       "      <td>P</td>\n",
       "      <td>PROGRESS</td>\n",
       "      <td>11</td>\n",
       "      <td>DISREGARD / SIGNAL 9</td>\n",
       "      <td>0.0</td>\n",
       "      <td>MT VIEW RD &amp; MURFREESBORO PKE</td>\n",
       "      <td>333C</td>\n",
       "      <td>S</td>\n",
       "      <td>33</td>\n",
       "      <td>8865.0</td>\n",
       "      <td>36.054</td>\n",
       "      <td>-86.619</td>\n",
       "      <td>(36.054, -86.619)</td>\n",
       "    </tr>\n",
       "    <tr>\n",
       "      <th>6</th>\n",
       "      <td>PD201600000007</td>\n",
       "      <td>01/01/2016 12:00:00 AM</td>\n",
       "      <td>0</td>\n",
       "      <td>C</td>\n",
       "      <td>83</td>\n",
       "      <td>Shots Fired</td>\n",
       "      <td>P</td>\n",
       "      <td>PROGRESS</td>\n",
       "      <td>11</td>\n",
       "      <td>DISREGARD / SIGNAL 9</td>\n",
       "      <td>600.0</td>\n",
       "      <td>S 6TH ST</td>\n",
       "      <td>NaN</td>\n",
       "      <td>E</td>\n",
       "      <td>11</td>\n",
       "      <td>1021.0</td>\n",
       "      <td>36.166</td>\n",
       "      <td>-86.759</td>\n",
       "      <td>(36.166, -86.759)</td>\n",
       "    </tr>\n",
       "    <tr>\n",
       "      <th>7</th>\n",
       "      <td>PD201600000008</td>\n",
       "      <td>01/01/2016 12:02:00 AM</td>\n",
       "      <td>20160000011</td>\n",
       "      <td>C</td>\n",
       "      <td>83</td>\n",
       "      <td>Shots Fired</td>\n",
       "      <td>P</td>\n",
       "      <td>PROGRESS</td>\n",
       "      <td>5</td>\n",
       "      <td>GONE ON ARRIVAL</td>\n",
       "      <td>2500.0</td>\n",
       "      <td>SANTI AV</td>\n",
       "      <td>613C</td>\n",
       "      <td>N</td>\n",
       "      <td>13</td>\n",
       "      <td>4463.0</td>\n",
       "      <td>36.179</td>\n",
       "      <td>-86.818</td>\n",
       "      <td>(36.179, -86.818)</td>\n",
       "    </tr>\n",
       "    <tr>\n",
       "      <th>8</th>\n",
       "      <td>PD201600000009</td>\n",
       "      <td>01/01/2016 12:02:00 AM</td>\n",
       "      <td>20160000008</td>\n",
       "      <td>C</td>\n",
       "      <td>83</td>\n",
       "      <td>Shots Fired</td>\n",
       "      <td>P</td>\n",
       "      <td>PROGRESS</td>\n",
       "      <td>11</td>\n",
       "      <td>DISREGARD / SIGNAL 9</td>\n",
       "      <td>0.0</td>\n",
       "      <td>HERMITAGE AV</td>\n",
       "      <td>511C</td>\n",
       "      <td>NaN</td>\n",
       "      <td>NaN</td>\n",
       "      <td>NaN</td>\n",
       "      <td>NaN</td>\n",
       "      <td>NaN</td>\n",
       "      <td>NaN</td>\n",
       "    </tr>\n",
       "    <tr>\n",
       "      <th>9</th>\n",
       "      <td>PD201600000010</td>\n",
       "      <td>01/01/2016 12:02:00 AM</td>\n",
       "      <td>0</td>\n",
       "      <td>C</td>\n",
       "      <td>83</td>\n",
       "      <td>Shots Fired</td>\n",
       "      <td>P</td>\n",
       "      <td>PROGRESS</td>\n",
       "      <td>11</td>\n",
       "      <td>DISREGARD / SIGNAL 9</td>\n",
       "      <td>1600.0</td>\n",
       "      <td>CAHAL AV</td>\n",
       "      <td>NaN</td>\n",
       "      <td>E</td>\n",
       "      <td>17</td>\n",
       "      <td>1431.0</td>\n",
       "      <td>36.196</td>\n",
       "      <td>-86.734</td>\n",
       "      <td>(36.196, -86.734)</td>\n",
       "    </tr>\n",
       "  </tbody>\n",
       "</table>\n",
       "</div>"
      ],
      "text/plain": [
       "     Event Number           Call Received  Complaint Number Shift  Tencode  \\\n",
       "0  PD201600000001  01/01/2016 12:00:00 AM       20160000002     C       96   \n",
       "1  PD201600000002  01/01/2016 12:00:00 AM       20160000003     C       96   \n",
       "2  PD201600000003  01/01/2016 12:00:00 AM       20160000017     C       45   \n",
       "3  PD201600000004  01/01/2016 12:00:00 AM                 0     C       83   \n",
       "4  PD201600000005  01/01/2016 12:00:00 AM       20160000005     C       96   \n",
       "5  PD201600000006  01/01/2016 12:00:00 AM       20160000006     C       46   \n",
       "6  PD201600000007  01/01/2016 12:00:00 AM                 0     C       83   \n",
       "7  PD201600000008  01/01/2016 12:02:00 AM       20160000011     C       83   \n",
       "8  PD201600000009  01/01/2016 12:02:00 AM       20160000008     C       83   \n",
       "9  PD201600000010  01/01/2016 12:02:00 AM                 0     C       83   \n",
       "\n",
       "                  Tencode Description Tencode Suffix  \\\n",
       "0                      Business Check            NaN   \n",
       "1                      Business Check            NaN   \n",
       "2  Vehicle Accident - Property Damage              P   \n",
       "3                         Shots Fired              P   \n",
       "4                      Business Check            NaN   \n",
       "5  Vehicle Accident - Personal Injury              P   \n",
       "6                         Shots Fired              P   \n",
       "7                         Shots Fired              P   \n",
       "8                         Shots Fired              P   \n",
       "9                         Shots Fired              P   \n",
       "\n",
       "  Tencode Suffix Description  Disposition Code   Disposition Description  \\\n",
       "0                        NaN                12  LOCATION/BUILDING SECURE   \n",
       "1                        NaN                12  LOCATION/BUILDING SECURE   \n",
       "2                   PROGRESS                 1     M.P.D. REPORT COMPLED   \n",
       "3                   PROGRESS                11      DISREGARD / SIGNAL 9   \n",
       "4                        NaN                12  LOCATION/BUILDING SECURE   \n",
       "5                   PROGRESS                11      DISREGARD / SIGNAL 9   \n",
       "6                   PROGRESS                11      DISREGARD / SIGNAL 9   \n",
       "7                   PROGRESS                 5           GONE ON ARRIVAL   \n",
       "8                   PROGRESS                11      DISREGARD / SIGNAL 9   \n",
       "9                   PROGRESS                11      DISREGARD / SIGNAL 9   \n",
       "\n",
       "    Block                    Street Name Unit Dispatched Sector Zone     RPA  \\\n",
       "0   300.0                     HERRON DR             311C      S   11  8125.0   \n",
       "1   500.0                       MAIN ST             213C      E   11  1113.0   \n",
       "2     0.0    EDMONDSON PKE & MCMURRAY DR            835C     MT   33  8657.0   \n",
       "3   500.0                      S 5TH ST              NaN      E   11  1011.0   \n",
       "4  1100.0                       BELL RD             333C      S   25  8721.0   \n",
       "5     0.0  MT VIEW RD & MURFREESBORO PKE            333C      S   33  8865.0   \n",
       "6   600.0                      S 6TH ST              NaN      E   11  1021.0   \n",
       "7  2500.0                      SANTI AV             613C      N   13  4463.0   \n",
       "8     0.0                   HERMITAGE AV            511C    NaN  NaN     NaN   \n",
       "9  1600.0                      CAHAL AV              NaN      E   17  1431.0   \n",
       "\n",
       "   Latitude  Longitude    Mapped Location  \n",
       "0    36.133    -86.752  (36.133, -86.752)  \n",
       "1    36.173    -86.764  (36.173, -86.764)  \n",
       "2    36.055    -86.743  (36.055, -86.743)  \n",
       "3    36.167    -86.762  (36.167, -86.762)  \n",
       "4    36.046    -86.666  (36.046, -86.666)  \n",
       "5    36.054    -86.619  (36.054, -86.619)  \n",
       "6    36.166    -86.759  (36.166, -86.759)  \n",
       "7    36.179    -86.818  (36.179, -86.818)  \n",
       "8       NaN        NaN                NaN  \n",
       "9    36.196    -86.734  (36.196, -86.734)  "
      ]
     },
     "execution_count": 9,
     "metadata": {},
     "output_type": "execute_result"
    }
   ],
   "source": [
    "df.head(10)"
   ]
  },
  {
   "cell_type": "markdown",
   "metadata": {},
   "source": [
    "#### Question Time!"
   ]
  },
  {
   "cell_type": "markdown",
   "metadata": {},
   "source": [
    "I like this quote from Albert Einstein:\n",
    "\"If I had an hour to solve a problem and my life depended on it,\n",
    "I would use the first 55 minutes determining the proper question to ask, \n",
    "for once I know the proper question, I could solve the problem in less than five minutes.\"\n",
    "\n",
    "In the spirit of Einstein and data science/analytics, let's ask some questions and make a few observations.\n",
    "\n",
    "A few observations:\n",
    "- 'Event Number' is an object, not technically a number.\n",
    "- The 'Call Received' column is not a date.\n",
    "\n",
    "Several questions to begin our exploration:\n",
    "- I'm assuming 'Shift' refers to first, second and third shift. A,B,C? Need to confirm that.\n",
    "- 'Tencode' is connected to 'Tencode Description'...how many codes are there?\n",
    "- What is the importance of 'Tencode Suffix'? How many different values exist, and what do they mean?\n",
    "- What is 'Disposition Code'? Is it a spectrum of the disposition of the people involved?\n",
    "- Ah, the 'Disposition Description' helps me see what the 'Disposition Code' is.\n",
    "- How many 'Blocks' are there in Nashville? Check the map to get a sense of the block locations.\n",
    "- What is the difference between 'Block' and 'Sector'? And 'Sector' vs. 'Zone'?\n",
    "- What is RPA? I don't initally see any correlation between the values in the first ten rows of the dataframe.\n",
    "\n",
    "This is a large dataset. What questions can we ask to narrow our focus?\n",
    "- What service calls could we funnel off to someone other than the police?\n",
    "- What service calls are dangerous?\n",
    "- Can we better predict which of these calls will be dangerous?\n",
    "- How many calls happen on each shift?\n",
    "- How have the calls increased or decreased over the years?\n",
    "- How has COVID in 2020 affected Nashville's service calls?\n",
    "- How much money can we save with the police force in 2021?\n",
    "- How many calls can we expect in 2021? What features (columns) would we need to predict this?\n",
    "- How does the population growth in Nashville correlate with number of calls?\n",
    "- Compare services calls in Nashville to a similar sized city in the South/Midwest. Are they similar? Why? Why not?\n",
    "- What programs could we initiate in 2021 in light of service calls?\n",
    "- Which blocks/sectors/zones have seen the greatest increase in activity from 2016 to 2019?\n",
    "- Can we predict which blocks/sectors/zones will be problem areas in 2021?\n",
    "- What additional info do we need from other sources?\n",
    "- What were the outcomes of these calls? What are the counts of death? Homocide? Suicide?\n",
    "- Mentioned before, what is the budget of the police force? Are we adequately funded?\n",
    "- From an HR perspective, how does the morale of police officers (would need to do some surveys) correlate with the activity in each sectr/bloc/zone? What additional programming/leadership needs put in place there?\n",
    "- How many of these are false alarms? Looks like we may need to disregard disposition codes of 11 to not skew results.\n",
    "- What can we learn about 'Suicide' calls? How do these correlate to the amount of suicides in Nashville year of year?\n",
    "- Let's talk about 'Shots Fired.' Where are these happening the most frequently?"
   ]
  },
  {
   "cell_type": "markdown",
   "metadata": {},
   "source": [
    "#### Shots Fired"
   ]
  },
  {
   "cell_type": "markdown",
   "metadata": {},
   "source": [
    "Let's dive into one set of service calls: 'Shots Fired.' I considered doing suicide calls, but I thought I'd keep it a bit lighter for this particular analysis.\n",
    "\n",
    "I spent some time with Nashville's interactive map. That was so helpful to quickly play with parameters in a visual environment in real-time. Let's take a look at this segment of service calls and see what we can find out."
   ]
  },
  {
   "cell_type": "code",
   "execution_count": 10,
   "metadata": {
    "scrolled": true
   },
   "outputs": [
    {
     "data": {
      "text/html": [
       "<div>\n",
       "<style scoped>\n",
       "    .dataframe tbody tr th:only-of-type {\n",
       "        vertical-align: middle;\n",
       "    }\n",
       "\n",
       "    .dataframe tbody tr th {\n",
       "        vertical-align: top;\n",
       "    }\n",
       "\n",
       "    .dataframe thead th {\n",
       "        text-align: right;\n",
       "    }\n",
       "</style>\n",
       "<table border=\"1\" class=\"dataframe\">\n",
       "  <thead>\n",
       "    <tr style=\"text-align: right;\">\n",
       "      <th></th>\n",
       "      <th>Event Number</th>\n",
       "      <th>Call Received</th>\n",
       "      <th>Complaint Number</th>\n",
       "      <th>Shift</th>\n",
       "      <th>Tencode</th>\n",
       "      <th>Tencode Description</th>\n",
       "      <th>Tencode Suffix</th>\n",
       "      <th>Tencode Suffix Description</th>\n",
       "      <th>Disposition Code</th>\n",
       "      <th>Disposition Description</th>\n",
       "      <th>Block</th>\n",
       "      <th>Street Name</th>\n",
       "      <th>Unit Dispatched</th>\n",
       "      <th>Sector</th>\n",
       "      <th>Zone</th>\n",
       "      <th>RPA</th>\n",
       "      <th>Latitude</th>\n",
       "      <th>Longitude</th>\n",
       "      <th>Mapped Location</th>\n",
       "    </tr>\n",
       "  </thead>\n",
       "  <tbody>\n",
       "    <tr>\n",
       "      <th>3</th>\n",
       "      <td>PD201600000004</td>\n",
       "      <td>01/01/2016 12:00:00 AM</td>\n",
       "      <td>0</td>\n",
       "      <td>C</td>\n",
       "      <td>83</td>\n",
       "      <td>Shots Fired</td>\n",
       "      <td>P</td>\n",
       "      <td>PROGRESS</td>\n",
       "      <td>11</td>\n",
       "      <td>DISREGARD / SIGNAL 9</td>\n",
       "      <td>500.0</td>\n",
       "      <td>S 5TH ST</td>\n",
       "      <td>NaN</td>\n",
       "      <td>E</td>\n",
       "      <td>11</td>\n",
       "      <td>1011.0</td>\n",
       "      <td>36.167</td>\n",
       "      <td>-86.762</td>\n",
       "      <td>(36.167, -86.762)</td>\n",
       "    </tr>\n",
       "    <tr>\n",
       "      <th>6</th>\n",
       "      <td>PD201600000007</td>\n",
       "      <td>01/01/2016 12:00:00 AM</td>\n",
       "      <td>0</td>\n",
       "      <td>C</td>\n",
       "      <td>83</td>\n",
       "      <td>Shots Fired</td>\n",
       "      <td>P</td>\n",
       "      <td>PROGRESS</td>\n",
       "      <td>11</td>\n",
       "      <td>DISREGARD / SIGNAL 9</td>\n",
       "      <td>600.0</td>\n",
       "      <td>S 6TH ST</td>\n",
       "      <td>NaN</td>\n",
       "      <td>E</td>\n",
       "      <td>11</td>\n",
       "      <td>1021.0</td>\n",
       "      <td>36.166</td>\n",
       "      <td>-86.759</td>\n",
       "      <td>(36.166, -86.759)</td>\n",
       "    </tr>\n",
       "    <tr>\n",
       "      <th>7</th>\n",
       "      <td>PD201600000008</td>\n",
       "      <td>01/01/2016 12:02:00 AM</td>\n",
       "      <td>20160000011</td>\n",
       "      <td>C</td>\n",
       "      <td>83</td>\n",
       "      <td>Shots Fired</td>\n",
       "      <td>P</td>\n",
       "      <td>PROGRESS</td>\n",
       "      <td>5</td>\n",
       "      <td>GONE ON ARRIVAL</td>\n",
       "      <td>2500.0</td>\n",
       "      <td>SANTI AV</td>\n",
       "      <td>613C</td>\n",
       "      <td>N</td>\n",
       "      <td>13</td>\n",
       "      <td>4463.0</td>\n",
       "      <td>36.179</td>\n",
       "      <td>-86.818</td>\n",
       "      <td>(36.179, -86.818)</td>\n",
       "    </tr>\n",
       "    <tr>\n",
       "      <th>8</th>\n",
       "      <td>PD201600000009</td>\n",
       "      <td>01/01/2016 12:02:00 AM</td>\n",
       "      <td>20160000008</td>\n",
       "      <td>C</td>\n",
       "      <td>83</td>\n",
       "      <td>Shots Fired</td>\n",
       "      <td>P</td>\n",
       "      <td>PROGRESS</td>\n",
       "      <td>11</td>\n",
       "      <td>DISREGARD / SIGNAL 9</td>\n",
       "      <td>0.0</td>\n",
       "      <td>HERMITAGE AV</td>\n",
       "      <td>511C</td>\n",
       "      <td>NaN</td>\n",
       "      <td>NaN</td>\n",
       "      <td>NaN</td>\n",
       "      <td>NaN</td>\n",
       "      <td>NaN</td>\n",
       "      <td>NaN</td>\n",
       "    </tr>\n",
       "    <tr>\n",
       "      <th>9</th>\n",
       "      <td>PD201600000010</td>\n",
       "      <td>01/01/2016 12:02:00 AM</td>\n",
       "      <td>0</td>\n",
       "      <td>C</td>\n",
       "      <td>83</td>\n",
       "      <td>Shots Fired</td>\n",
       "      <td>P</td>\n",
       "      <td>PROGRESS</td>\n",
       "      <td>11</td>\n",
       "      <td>DISREGARD / SIGNAL 9</td>\n",
       "      <td>1600.0</td>\n",
       "      <td>CAHAL AV</td>\n",
       "      <td>NaN</td>\n",
       "      <td>E</td>\n",
       "      <td>17</td>\n",
       "      <td>1431.0</td>\n",
       "      <td>36.196</td>\n",
       "      <td>-86.734</td>\n",
       "      <td>(36.196, -86.734)</td>\n",
       "    </tr>\n",
       "  </tbody>\n",
       "</table>\n",
       "</div>"
      ],
      "text/plain": [
       "     Event Number           Call Received  Complaint Number Shift  Tencode  \\\n",
       "3  PD201600000004  01/01/2016 12:00:00 AM                 0     C       83   \n",
       "6  PD201600000007  01/01/2016 12:00:00 AM                 0     C       83   \n",
       "7  PD201600000008  01/01/2016 12:02:00 AM       20160000011     C       83   \n",
       "8  PD201600000009  01/01/2016 12:02:00 AM       20160000008     C       83   \n",
       "9  PD201600000010  01/01/2016 12:02:00 AM                 0     C       83   \n",
       "\n",
       "  Tencode Description Tencode Suffix Tencode Suffix Description  \\\n",
       "3         Shots Fired              P                   PROGRESS   \n",
       "6         Shots Fired              P                   PROGRESS   \n",
       "7         Shots Fired              P                   PROGRESS   \n",
       "8         Shots Fired              P                   PROGRESS   \n",
       "9         Shots Fired              P                   PROGRESS   \n",
       "\n",
       "   Disposition Code Disposition Description   Block   Street Name  \\\n",
       "3                11    DISREGARD / SIGNAL 9   500.0     S 5TH ST    \n",
       "6                11    DISREGARD / SIGNAL 9   600.0     S 6TH ST    \n",
       "7                 5         GONE ON ARRIVAL  2500.0     SANTI AV    \n",
       "8                11    DISREGARD / SIGNAL 9     0.0  HERMITAGE AV   \n",
       "9                11    DISREGARD / SIGNAL 9  1600.0     CAHAL AV    \n",
       "\n",
       "  Unit Dispatched Sector Zone     RPA  Latitude  Longitude    Mapped Location  \n",
       "3             NaN      E   11  1011.0    36.167    -86.762  (36.167, -86.762)  \n",
       "6             NaN      E   11  1021.0    36.166    -86.759  (36.166, -86.759)  \n",
       "7            613C      N   13  4463.0    36.179    -86.818  (36.179, -86.818)  \n",
       "8            511C    NaN  NaN     NaN       NaN        NaN                NaN  \n",
       "9             NaN      E   17  1431.0    36.196    -86.734  (36.196, -86.734)  "
      ]
     },
     "execution_count": 10,
     "metadata": {},
     "output_type": "execute_result"
    }
   ],
   "source": [
    "shots = df[df['Tencode']==83]\n",
    "shots.head()"
   ]
  },
  {
   "cell_type": "code",
   "execution_count": 11,
   "metadata": {},
   "outputs": [
    {
     "name": "stdout",
     "output_type": "stream",
     "text": [
      "<class 'pandas.core.frame.DataFrame'>\n",
      "Int64Index: 25369 entries, 3 to 784798\n",
      "Data columns (total 19 columns):\n",
      " #   Column                      Non-Null Count  Dtype  \n",
      "---  ------                      --------------  -----  \n",
      " 0   Event Number                25369 non-null  object \n",
      " 1   Call Received               25369 non-null  object \n",
      " 2   Complaint Number            25369 non-null  int64  \n",
      " 3   Shift                       22944 non-null  object \n",
      " 4   Tencode                     25369 non-null  int64  \n",
      " 5   Tencode Description         25369 non-null  object \n",
      " 6   Tencode Suffix              25369 non-null  object \n",
      " 7   Tencode Suffix Description  25120 non-null  object \n",
      " 8   Disposition Code            25369 non-null  int64  \n",
      " 9   Disposition Description     25306 non-null  object \n",
      " 10  Block                       23325 non-null  float64\n",
      " 11  Street Name                 25369 non-null  object \n",
      " 12  Unit Dispatched             21897 non-null  object \n",
      " 13  Sector                      23164 non-null  object \n",
      " 14  Zone                        23165 non-null  object \n",
      " 15  RPA                         23167 non-null  float64\n",
      " 16  Latitude                    23167 non-null  float64\n",
      " 17  Longitude                   23167 non-null  float64\n",
      " 18  Mapped Location             23152 non-null  object \n",
      "dtypes: float64(4), int64(3), object(12)\n",
      "memory usage: 3.9+ MB\n"
     ]
    }
   ],
   "source": [
    "shots.info()"
   ]
  },
  {
   "cell_type": "code",
   "execution_count": 12,
   "metadata": {},
   "outputs": [
    {
     "data": {
      "text/plain": [
       "DISREGARD / SIGNAL 9             9741\n",
       "GONE ON ARRIVAL                  4910\n",
       "ASSISTED OTHER UNIT              4363\n",
       "NO RESPONSE                      4184\n",
       "M.P.D. REPORT COMPLED            1162\n",
       "ASSISTED CITIZEN                  739\n",
       "FALSE CALL                         89\n",
       "SUBJECT WARNED                     52\n",
       "LOCATION/BUILDING SECURE           24\n",
       "ASSISTANCE REFUSED                 16\n",
       "ARREST, CUSTODIAL OR CITATION       9\n",
       "COMMUNITY POLICING                  7\n",
       "CITATION - TRAFFIC                  6\n",
       "ADVISED IN CIVIL CASE               4\n",
       "Name: Disposition Description, dtype: int64"
      ]
     },
     "execution_count": 12,
     "metadata": {},
     "output_type": "execute_result"
    }
   ],
   "source": [
    "#Let's look at the different disposition desriptions of these events.\n",
    "shots['Disposition Description'].value_counts()"
   ]
  },
  {
   "cell_type": "markdown",
   "metadata": {},
   "source": [
    "What is 'Signal 9?' That is the most-used disposition.\n",
    "Looks like signal 9 is a simple disregard: http://www.serenadedesign.com/mack/metro.htm\n",
    "Let's drop that column.\n",
    "\n",
    "'Assisted Other Unit' means that we are duplicating our entry. I looked through several records, and the time between 'Assisted Other Unit' and another diposition code was typically just a few minutes.\n",
    "\n",
    "'False Call' will also need to be dropped since its...a false call.\n",
    "\n",
    "'M.P.D. REPORT COMPLED' doesn't have a location, block, sector or zone. I'm deducing that that means that an officer simply completed a report and submitted it. It is connected to another event and is, therefore, a duplicate.\n",
    "\n",
    "Let's drop all of these columns."
   ]
  },
  {
   "cell_type": "code",
   "execution_count": 13,
   "metadata": {},
   "outputs": [
    {
     "data": {
      "text/plain": [
       "(25369, 19)"
      ]
     },
     "execution_count": 13,
     "metadata": {},
     "output_type": "execute_result"
    }
   ],
   "source": [
    "shots.shape"
   ]
  },
  {
   "cell_type": "code",
   "execution_count": 14,
   "metadata": {},
   "outputs": [
    {
     "data": {
      "text/plain": [
       "(9901, 19)"
      ]
     },
     "execution_count": 14,
     "metadata": {},
     "output_type": "execute_result"
    }
   ],
   "source": [
    "no_shot_index = shots[(shots['Disposition Description'] == 'DISREGARD / SIGNAL 9') |\n",
    "          (shots['Disposition Description'] == 'ASSISTED OTHER UNIT') |\n",
    "          (shots['Disposition Description'] == 'FALSE CALL') | \n",
    "          (shots['Disposition Description'] == 'M.P.D. REPORT COMPLED')].index\n",
    "real_shots = shots.drop(no_shot_index)\n",
    "real_shots.shape"
   ]
  },
  {
   "cell_type": "code",
   "execution_count": 15,
   "metadata": {},
   "outputs": [
    {
     "data": {
      "text/plain": [
       "GONE ON ARRIVAL                  4860\n",
       "NO RESPONSE                      4141\n",
       "ASSISTED CITIZEN                  722\n",
       "SUBJECT WARNED                     52\n",
       "LOCATION/BUILDING SECURE           24\n",
       "ASSISTANCE REFUSED                 16\n",
       "ARREST, CUSTODIAL OR CITATION       8\n",
       "COMMUNITY POLICING                  7\n",
       "CITATION - TRAFFIC                  6\n",
       "ADVISED IN CIVIL CASE               4\n",
       "Name: Disposition Description, dtype: int64"
      ]
     },
     "execution_count": 15,
     "metadata": {},
     "output_type": "execute_result"
    }
   ],
   "source": [
    "# So, that leaves us with the following dispositions.\n",
    "real_shots['Disposition Description'].value_counts()"
   ]
  },
  {
   "cell_type": "code",
   "execution_count": 16,
   "metadata": {},
   "outputs": [
    {
     "data": {
      "text/html": [
       "<div>\n",
       "<style scoped>\n",
       "    .dataframe tbody tr th:only-of-type {\n",
       "        vertical-align: middle;\n",
       "    }\n",
       "\n",
       "    .dataframe tbody tr th {\n",
       "        vertical-align: top;\n",
       "    }\n",
       "\n",
       "    .dataframe thead th {\n",
       "        text-align: right;\n",
       "    }\n",
       "</style>\n",
       "<table border=\"1\" class=\"dataframe\">\n",
       "  <thead>\n",
       "    <tr style=\"text-align: right;\">\n",
       "      <th></th>\n",
       "      <th>Event Number</th>\n",
       "      <th>Call Received</th>\n",
       "      <th>Complaint Number</th>\n",
       "      <th>Shift</th>\n",
       "      <th>Tencode</th>\n",
       "      <th>Tencode Description</th>\n",
       "      <th>Tencode Suffix</th>\n",
       "      <th>Tencode Suffix Description</th>\n",
       "      <th>Disposition Code</th>\n",
       "      <th>Disposition Description</th>\n",
       "      <th>Block</th>\n",
       "      <th>Street Name</th>\n",
       "      <th>Unit Dispatched</th>\n",
       "      <th>Sector</th>\n",
       "      <th>Zone</th>\n",
       "      <th>RPA</th>\n",
       "      <th>Latitude</th>\n",
       "      <th>Longitude</th>\n",
       "      <th>Mapped Location</th>\n",
       "    </tr>\n",
       "  </thead>\n",
       "  <tbody>\n",
       "    <tr>\n",
       "      <th>7</th>\n",
       "      <td>PD201600000008</td>\n",
       "      <td>01/01/2016 12:02:00 AM</td>\n",
       "      <td>20160000011</td>\n",
       "      <td>C</td>\n",
       "      <td>83</td>\n",
       "      <td>Shots Fired</td>\n",
       "      <td>P</td>\n",
       "      <td>PROGRESS</td>\n",
       "      <td>5</td>\n",
       "      <td>GONE ON ARRIVAL</td>\n",
       "      <td>2500.0</td>\n",
       "      <td>SANTI AV</td>\n",
       "      <td>613C</td>\n",
       "      <td>N</td>\n",
       "      <td>13</td>\n",
       "      <td>4463.0</td>\n",
       "      <td>36.179</td>\n",
       "      <td>-86.818</td>\n",
       "      <td>(36.179, -86.818)</td>\n",
       "    </tr>\n",
       "    <tr>\n",
       "      <th>13</th>\n",
       "      <td>PD201600000015</td>\n",
       "      <td>01/01/2016 12:03:00 AM</td>\n",
       "      <td>20160000014</td>\n",
       "      <td>C</td>\n",
       "      <td>83</td>\n",
       "      <td>Shots Fired</td>\n",
       "      <td>P</td>\n",
       "      <td>PROGRESS</td>\n",
       "      <td>10</td>\n",
       "      <td>NO RESPONSE</td>\n",
       "      <td>3100.0</td>\n",
       "      <td>COUNTRY LAWN DR</td>\n",
       "      <td>330C</td>\n",
       "      <td>S</td>\n",
       "      <td>35</td>\n",
       "      <td>8975.0</td>\n",
       "      <td>36.072</td>\n",
       "      <td>-86.603</td>\n",
       "      <td>(36.072, -86.603)</td>\n",
       "    </tr>\n",
       "    <tr>\n",
       "      <th>16</th>\n",
       "      <td>PD201600000019</td>\n",
       "      <td>01/01/2016 12:05:00 AM</td>\n",
       "      <td>20160000070</td>\n",
       "      <td>C</td>\n",
       "      <td>83</td>\n",
       "      <td>Shots Fired</td>\n",
       "      <td>P</td>\n",
       "      <td>PROGRESS</td>\n",
       "      <td>5</td>\n",
       "      <td>GONE ON ARRIVAL</td>\n",
       "      <td>3400.0</td>\n",
       "      <td>TISDALL DR</td>\n",
       "      <td>625C</td>\n",
       "      <td>N</td>\n",
       "      <td>27</td>\n",
       "      <td>3223.0</td>\n",
       "      <td>36.238</td>\n",
       "      <td>-86.808</td>\n",
       "      <td>(36.238, -86.808)</td>\n",
       "    </tr>\n",
       "    <tr>\n",
       "      <th>24</th>\n",
       "      <td>PD201600000029</td>\n",
       "      <td>01/01/2016 12:07:00 AM</td>\n",
       "      <td>20160000057</td>\n",
       "      <td>C</td>\n",
       "      <td>83</td>\n",
       "      <td>Shots Fired</td>\n",
       "      <td>P</td>\n",
       "      <td>PROGRESS</td>\n",
       "      <td>5</td>\n",
       "      <td>GONE ON ARRIVAL</td>\n",
       "      <td>500.0</td>\n",
       "      <td>MILL STATION DR</td>\n",
       "      <td>627C</td>\n",
       "      <td>N</td>\n",
       "      <td>21</td>\n",
       "      <td>3023.0</td>\n",
       "      <td>36.228</td>\n",
       "      <td>-86.800</td>\n",
       "      <td>(36.228, -86.8)</td>\n",
       "    </tr>\n",
       "    <tr>\n",
       "      <th>27</th>\n",
       "      <td>PD201600000033</td>\n",
       "      <td>01/01/2016 12:08:00 AM</td>\n",
       "      <td>20160000041</td>\n",
       "      <td>C</td>\n",
       "      <td>83</td>\n",
       "      <td>Shots Fired</td>\n",
       "      <td>P</td>\n",
       "      <td>PROGRESS</td>\n",
       "      <td>10</td>\n",
       "      <td>NO RESPONSE</td>\n",
       "      <td>1400.0</td>\n",
       "      <td>LITTON AV</td>\n",
       "      <td>217C</td>\n",
       "      <td>E</td>\n",
       "      <td>17</td>\n",
       "      <td>1413.0</td>\n",
       "      <td>36.202</td>\n",
       "      <td>-86.731</td>\n",
       "      <td>(36.202, -86.731)</td>\n",
       "    </tr>\n",
       "  </tbody>\n",
       "</table>\n",
       "</div>"
      ],
      "text/plain": [
       "      Event Number           Call Received  Complaint Number Shift  Tencode  \\\n",
       "7   PD201600000008  01/01/2016 12:02:00 AM       20160000011     C       83   \n",
       "13  PD201600000015  01/01/2016 12:03:00 AM       20160000014     C       83   \n",
       "16  PD201600000019  01/01/2016 12:05:00 AM       20160000070     C       83   \n",
       "24  PD201600000029  01/01/2016 12:07:00 AM       20160000057     C       83   \n",
       "27  PD201600000033  01/01/2016 12:08:00 AM       20160000041     C       83   \n",
       "\n",
       "   Tencode Description Tencode Suffix Tencode Suffix Description  \\\n",
       "7          Shots Fired              P                   PROGRESS   \n",
       "13         Shots Fired              P                   PROGRESS   \n",
       "16         Shots Fired              P                   PROGRESS   \n",
       "24         Shots Fired              P                   PROGRESS   \n",
       "27         Shots Fired              P                   PROGRESS   \n",
       "\n",
       "    Disposition Code Disposition Description   Block       Street Name  \\\n",
       "7                  5         GONE ON ARRIVAL  2500.0         SANTI AV    \n",
       "13                10             NO RESPONSE  3100.0  COUNTRY LAWN DR    \n",
       "16                 5         GONE ON ARRIVAL  3400.0       TISDALL DR    \n",
       "24                 5         GONE ON ARRIVAL   500.0  MILL STATION DR    \n",
       "27                10             NO RESPONSE  1400.0        LITTON AV    \n",
       "\n",
       "   Unit Dispatched Sector Zone     RPA  Latitude  Longitude    Mapped Location  \n",
       "7             613C      N   13  4463.0    36.179    -86.818  (36.179, -86.818)  \n",
       "13            330C      S   35  8975.0    36.072    -86.603  (36.072, -86.603)  \n",
       "16            625C      N   27  3223.0    36.238    -86.808  (36.238, -86.808)  \n",
       "24            627C      N   21  3023.0    36.228    -86.800    (36.228, -86.8)  \n",
       "27            217C      E   17  1413.0    36.202    -86.731  (36.202, -86.731)  "
      ]
     },
     "execution_count": 16,
     "metadata": {},
     "output_type": "execute_result"
    }
   ],
   "source": [
    "real_shots.head()"
   ]
  },
  {
   "cell_type": "code",
   "execution_count": 17,
   "metadata": {},
   "outputs": [
    {
     "data": {
      "text/html": [
       "<div>\n",
       "<style scoped>\n",
       "    .dataframe tbody tr th:only-of-type {\n",
       "        vertical-align: middle;\n",
       "    }\n",
       "\n",
       "    .dataframe tbody tr th {\n",
       "        vertical-align: top;\n",
       "    }\n",
       "\n",
       "    .dataframe thead th {\n",
       "        text-align: right;\n",
       "    }\n",
       "</style>\n",
       "<table border=\"1\" class=\"dataframe\">\n",
       "  <thead>\n",
       "    <tr style=\"text-align: right;\">\n",
       "      <th></th>\n",
       "      <th>Event Number</th>\n",
       "      <th>Call Received</th>\n",
       "      <th>Complaint Number</th>\n",
       "      <th>Shift</th>\n",
       "      <th>Tencode</th>\n",
       "      <th>Tencode Description</th>\n",
       "      <th>Tencode Suffix</th>\n",
       "      <th>Tencode Suffix Description</th>\n",
       "      <th>Disposition Code</th>\n",
       "      <th>Disposition Description</th>\n",
       "      <th>Block</th>\n",
       "      <th>Street Name</th>\n",
       "      <th>Unit Dispatched</th>\n",
       "      <th>Sector</th>\n",
       "      <th>Zone</th>\n",
       "      <th>RPA</th>\n",
       "      <th>Latitude</th>\n",
       "      <th>Longitude</th>\n",
       "      <th>Mapped Location</th>\n",
       "    </tr>\n",
       "  </thead>\n",
       "  <tbody>\n",
       "    <tr>\n",
       "      <th>781727</th>\n",
       "      <td>PD201901060709</td>\n",
       "      <td>12/18/2019 07:49:22 PM</td>\n",
       "      <td>20190906154</td>\n",
       "      <td>B</td>\n",
       "      <td>83</td>\n",
       "      <td>Shots Fired</td>\n",
       "      <td>P</td>\n",
       "      <td>PROGRESS</td>\n",
       "      <td>10</td>\n",
       "      <td>NO RESPONSE</td>\n",
       "      <td>2600.0</td>\n",
       "      <td>ALAMEDA ST</td>\n",
       "      <td>617B</td>\n",
       "      <td>N</td>\n",
       "      <td>15</td>\n",
       "      <td>5307.0</td>\n",
       "      <td>36.166</td>\n",
       "      <td>-86.817</td>\n",
       "      <td>(36.166, -86.817)</td>\n",
       "    </tr>\n",
       "    <tr>\n",
       "      <th>781956</th>\n",
       "      <td>PD201901060908</td>\n",
       "      <td>12/18/2019 09:41:04 PM</td>\n",
       "      <td>20190906318</td>\n",
       "      <td>B</td>\n",
       "      <td>83</td>\n",
       "      <td>Shots Fired</td>\n",
       "      <td>P</td>\n",
       "      <td>PROGRESS</td>\n",
       "      <td>10</td>\n",
       "      <td>NO RESPONSE</td>\n",
       "      <td>NaN</td>\n",
       "      <td>E OLD HICKORY BLVD</td>\n",
       "      <td>713B</td>\n",
       "      <td>NaN</td>\n",
       "      <td>NaN</td>\n",
       "      <td>NaN</td>\n",
       "      <td>NaN</td>\n",
       "      <td>NaN</td>\n",
       "      <td>NaN</td>\n",
       "    </tr>\n",
       "    <tr>\n",
       "      <th>782403</th>\n",
       "      <td>PD201901061193</td>\n",
       "      <td>12/19/2019 12:24:28 AM</td>\n",
       "      <td>20190906633</td>\n",
       "      <td>C</td>\n",
       "      <td>83</td>\n",
       "      <td>Shots Fired</td>\n",
       "      <td>P</td>\n",
       "      <td>PROGRESS</td>\n",
       "      <td>4</td>\n",
       "      <td>ASSISTED CITIZEN</td>\n",
       "      <td>4200.0</td>\n",
       "      <td>MAXWELL RD</td>\n",
       "      <td>335C</td>\n",
       "      <td>S</td>\n",
       "      <td>35</td>\n",
       "      <td>8967.0</td>\n",
       "      <td>36.036</td>\n",
       "      <td>-86.579</td>\n",
       "      <td>(36.036, -86.579)</td>\n",
       "    </tr>\n",
       "    <tr>\n",
       "      <th>784447</th>\n",
       "      <td>PD201901063674</td>\n",
       "      <td>12/19/2019 07:27:41 PM</td>\n",
       "      <td>20190908685</td>\n",
       "      <td>B</td>\n",
       "      <td>83</td>\n",
       "      <td>Shots Fired</td>\n",
       "      <td>P</td>\n",
       "      <td>PROGRESS</td>\n",
       "      <td>10</td>\n",
       "      <td>NO RESPONSE</td>\n",
       "      <td>1500.0</td>\n",
       "      <td>9TH AV N</td>\n",
       "      <td>614B</td>\n",
       "      <td>N</td>\n",
       "      <td>17</td>\n",
       "      <td>4345.0</td>\n",
       "      <td>36.178</td>\n",
       "      <td>-86.798</td>\n",
       "      <td>(36.178, -86.798)</td>\n",
       "    </tr>\n",
       "    <tr>\n",
       "      <th>784798</th>\n",
       "      <td>PD201901064135</td>\n",
       "      <td>12/19/2019 11:35:09 PM</td>\n",
       "      <td>20190909089</td>\n",
       "      <td>NaN</td>\n",
       "      <td>83</td>\n",
       "      <td>Shots Fired</td>\n",
       "      <td>P</td>\n",
       "      <td>PROGRESS</td>\n",
       "      <td>5</td>\n",
       "      <td>GONE ON ARRIVAL</td>\n",
       "      <td>0.0</td>\n",
       "      <td>WARRIOR RD &amp; CHEYENNE BLVD</td>\n",
       "      <td>711C</td>\n",
       "      <td>M</td>\n",
       "      <td>13</td>\n",
       "      <td>1635.0</td>\n",
       "      <td>36.259</td>\n",
       "      <td>-86.679</td>\n",
       "      <td>(36.259, -86.679)</td>\n",
       "    </tr>\n",
       "  </tbody>\n",
       "</table>\n",
       "</div>"
      ],
      "text/plain": [
       "          Event Number           Call Received  Complaint Number Shift  \\\n",
       "781727  PD201901060709  12/18/2019 07:49:22 PM       20190906154     B   \n",
       "781956  PD201901060908  12/18/2019 09:41:04 PM       20190906318     B   \n",
       "782403  PD201901061193  12/19/2019 12:24:28 AM       20190906633     C   \n",
       "784447  PD201901063674  12/19/2019 07:27:41 PM       20190908685     B   \n",
       "784798  PD201901064135  12/19/2019 11:35:09 PM       20190909089   NaN   \n",
       "\n",
       "        Tencode Tencode Description Tencode Suffix Tencode Suffix Description  \\\n",
       "781727       83         Shots Fired              P                   PROGRESS   \n",
       "781956       83         Shots Fired              P                   PROGRESS   \n",
       "782403       83         Shots Fired              P                   PROGRESS   \n",
       "784447       83         Shots Fired              P                   PROGRESS   \n",
       "784798       83         Shots Fired              P                   PROGRESS   \n",
       "\n",
       "        Disposition Code Disposition Description   Block  \\\n",
       "781727                10             NO RESPONSE  2600.0   \n",
       "781956                10             NO RESPONSE     NaN   \n",
       "782403                 4        ASSISTED CITIZEN  4200.0   \n",
       "784447                10             NO RESPONSE  1500.0   \n",
       "784798                 5         GONE ON ARRIVAL     0.0   \n",
       "\n",
       "                       Street Name Unit Dispatched Sector Zone     RPA  \\\n",
       "781727                 ALAMEDA ST             617B      N   15  5307.0   \n",
       "781956         E OLD HICKORY BLVD             713B    NaN  NaN     NaN   \n",
       "782403                 MAXWELL RD             335C      S   35  8967.0   \n",
       "784447                   9TH AV N             614B      N   17  4345.0   \n",
       "784798  WARRIOR RD & CHEYENNE BLVD            711C      M   13  1635.0   \n",
       "\n",
       "        Latitude  Longitude    Mapped Location  \n",
       "781727    36.166    -86.817  (36.166, -86.817)  \n",
       "781956       NaN        NaN                NaN  \n",
       "782403    36.036    -86.579  (36.036, -86.579)  \n",
       "784447    36.178    -86.798  (36.178, -86.798)  \n",
       "784798    36.259    -86.679  (36.259, -86.679)  "
      ]
     },
     "execution_count": 17,
     "metadata": {},
     "output_type": "execute_result"
    }
   ],
   "source": [
    "real_shots.tail()"
   ]
  },
  {
   "cell_type": "code",
   "execution_count": 18,
   "metadata": {},
   "outputs": [
    {
     "data": {
      "text/plain": [
       "PD201800773154    1\n",
       "PD201600570414    1\n",
       "PD201700050481    1\n",
       "PD201800397120    1\n",
       "PD201900605444    1\n",
       "                 ..\n",
       "PD201700381646    1\n",
       "PD201800054946    1\n",
       "PD201700795438    1\n",
       "PD201800527186    1\n",
       "PD201900233580    1\n",
       "Name: Event Number, Length: 9901, dtype: int64"
      ]
     },
     "execution_count": 18,
     "metadata": {},
     "output_type": "execute_result"
    }
   ],
   "source": [
    "real_shots['Event Number'].value_counts()"
   ]
  },
  {
   "cell_type": "code",
   "execution_count": 19,
   "metadata": {},
   "outputs": [
    {
     "name": "stdout",
     "output_type": "stream",
     "text": [
      "(9901, 19)\n",
      "(9901, 19)\n"
     ]
    },
    {
     "name": "stderr",
     "output_type": "stream",
     "text": [
      "/opt/anaconda3/lib/python3.7/site-packages/ipykernel_launcher.py:4: SettingWithCopyWarning: \n",
      "A value is trying to be set on a copy of a slice from a DataFrame\n",
      "\n",
      "See the caveats in the documentation: https://pandas.pydata.org/pandas-docs/stable/user_guide/indexing.html#returning-a-view-versus-a-copy\n",
      "  after removing the cwd from sys.path.\n"
     ]
    }
   ],
   "source": [
    "# It looks like we still have some duplicates. Let's see what's going on here.\n",
    "print(real_shots.shape)\n",
    "real_shots.drop_duplicates(subset =\"Event Number\", \n",
    "                     keep = 'first', inplace = True)\n",
    "print(real_shots.shape)"
   ]
  },
  {
   "cell_type": "code",
   "execution_count": 20,
   "metadata": {},
   "outputs": [
    {
     "data": {
      "text/html": [
       "<div>\n",
       "<style scoped>\n",
       "    .dataframe tbody tr th:only-of-type {\n",
       "        vertical-align: middle;\n",
       "    }\n",
       "\n",
       "    .dataframe tbody tr th {\n",
       "        vertical-align: top;\n",
       "    }\n",
       "\n",
       "    .dataframe thead th {\n",
       "        text-align: right;\n",
       "    }\n",
       "</style>\n",
       "<table border=\"1\" class=\"dataframe\">\n",
       "  <thead>\n",
       "    <tr style=\"text-align: right;\">\n",
       "      <th></th>\n",
       "      <th>Event Number</th>\n",
       "      <th>Call Received</th>\n",
       "      <th>Complaint Number</th>\n",
       "      <th>Shift</th>\n",
       "      <th>Tencode</th>\n",
       "      <th>Tencode Description</th>\n",
       "      <th>Tencode Suffix</th>\n",
       "      <th>Tencode Suffix Description</th>\n",
       "      <th>Disposition Code</th>\n",
       "      <th>Disposition Description</th>\n",
       "      <th>Block</th>\n",
       "      <th>Street Name</th>\n",
       "      <th>Unit Dispatched</th>\n",
       "      <th>Sector</th>\n",
       "      <th>Zone</th>\n",
       "      <th>RPA</th>\n",
       "      <th>Latitude</th>\n",
       "      <th>Longitude</th>\n",
       "      <th>Mapped Location</th>\n",
       "    </tr>\n",
       "  </thead>\n",
       "  <tbody>\n",
       "    <tr>\n",
       "      <th>555478</th>\n",
       "      <td>PD201700656877</td>\n",
       "      <td>06/29/2017 10:24:00 PM</td>\n",
       "      <td>20170573244</td>\n",
       "      <td>B</td>\n",
       "      <td>83</td>\n",
       "      <td>Shots Fired</td>\n",
       "      <td>P</td>\n",
       "      <td>PROGRESS</td>\n",
       "      <td>5</td>\n",
       "      <td>GONE ON ARRIVAL</td>\n",
       "      <td>3100.0</td>\n",
       "      <td>LONG BLVD</td>\n",
       "      <td>815C</td>\n",
       "      <td>MT</td>\n",
       "      <td>13</td>\n",
       "      <td>5627.0</td>\n",
       "      <td>36.146</td>\n",
       "      <td>-86.819</td>\n",
       "      <td>(36.146, -86.819)</td>\n",
       "    </tr>\n",
       "  </tbody>\n",
       "</table>\n",
       "</div>"
      ],
      "text/plain": [
       "          Event Number           Call Received  Complaint Number Shift  \\\n",
       "555478  PD201700656877  06/29/2017 10:24:00 PM       20170573244     B   \n",
       "\n",
       "        Tencode Tencode Description Tencode Suffix Tencode Suffix Description  \\\n",
       "555478       83         Shots Fired              P                   PROGRESS   \n",
       "\n",
       "        Disposition Code Disposition Description   Block Street Name  \\\n",
       "555478                 5         GONE ON ARRIVAL  3100.0  LONG BLVD    \n",
       "\n",
       "       Unit Dispatched Sector Zone     RPA  Latitude  Longitude  \\\n",
       "555478            815C     MT   13  5627.0    36.146    -86.819   \n",
       "\n",
       "          Mapped Location  \n",
       "555478  (36.146, -86.819)  "
      ]
     },
     "execution_count": 20,
     "metadata": {},
     "output_type": "execute_result"
    }
   ],
   "source": [
    "# Let's make sure we kept the first instance of every duplicate.\n",
    "real_shots[real_shots['Event Number'] == 'PD201700656877']"
   ]
  },
  {
   "cell_type": "code",
   "execution_count": 21,
   "metadata": {},
   "outputs": [
    {
     "name": "stderr",
     "output_type": "stream",
     "text": [
      "/opt/anaconda3/lib/python3.7/site-packages/ipykernel_launcher.py:2: SettingWithCopyWarning: \n",
      "A value is trying to be set on a copy of a slice from a DataFrame.\n",
      "Try using .loc[row_indexer,col_indexer] = value instead\n",
      "\n",
      "See the caveats in the documentation: https://pandas.pydata.org/pandas-docs/stable/user_guide/indexing.html#returning-a-view-versus-a-copy\n",
      "  \n"
     ]
    }
   ],
   "source": [
    "# Awesome. Looking good. Now, let's create a year column.\n",
    "real_shots['year'] = real_shots['Call Received'].str.slice(start=6, stop=10)"
   ]
  },
  {
   "cell_type": "code",
   "execution_count": 22,
   "metadata": {},
   "outputs": [
    {
     "data": {
      "text/html": [
       "<div>\n",
       "<style scoped>\n",
       "    .dataframe tbody tr th:only-of-type {\n",
       "        vertical-align: middle;\n",
       "    }\n",
       "\n",
       "    .dataframe tbody tr th {\n",
       "        vertical-align: top;\n",
       "    }\n",
       "\n",
       "    .dataframe thead th {\n",
       "        text-align: right;\n",
       "    }\n",
       "</style>\n",
       "<table border=\"1\" class=\"dataframe\">\n",
       "  <thead>\n",
       "    <tr style=\"text-align: right;\">\n",
       "      <th></th>\n",
       "      <th>Event Number</th>\n",
       "      <th>Call Received</th>\n",
       "      <th>Complaint Number</th>\n",
       "      <th>Shift</th>\n",
       "      <th>Tencode</th>\n",
       "      <th>Tencode Description</th>\n",
       "      <th>Tencode Suffix</th>\n",
       "      <th>Tencode Suffix Description</th>\n",
       "      <th>Disposition Code</th>\n",
       "      <th>Disposition Description</th>\n",
       "      <th>Block</th>\n",
       "      <th>Street Name</th>\n",
       "      <th>Unit Dispatched</th>\n",
       "      <th>Sector</th>\n",
       "      <th>Zone</th>\n",
       "      <th>RPA</th>\n",
       "      <th>Latitude</th>\n",
       "      <th>Longitude</th>\n",
       "      <th>Mapped Location</th>\n",
       "      <th>year</th>\n",
       "    </tr>\n",
       "  </thead>\n",
       "  <tbody>\n",
       "    <tr>\n",
       "      <th>7</th>\n",
       "      <td>PD201600000008</td>\n",
       "      <td>01/01/2016 12:02:00 AM</td>\n",
       "      <td>20160000011</td>\n",
       "      <td>C</td>\n",
       "      <td>83</td>\n",
       "      <td>Shots Fired</td>\n",
       "      <td>P</td>\n",
       "      <td>PROGRESS</td>\n",
       "      <td>5</td>\n",
       "      <td>GONE ON ARRIVAL</td>\n",
       "      <td>2500.0</td>\n",
       "      <td>SANTI AV</td>\n",
       "      <td>613C</td>\n",
       "      <td>N</td>\n",
       "      <td>13</td>\n",
       "      <td>4463.0</td>\n",
       "      <td>36.179</td>\n",
       "      <td>-86.818</td>\n",
       "      <td>(36.179, -86.818)</td>\n",
       "      <td>2016</td>\n",
       "    </tr>\n",
       "    <tr>\n",
       "      <th>13</th>\n",
       "      <td>PD201600000015</td>\n",
       "      <td>01/01/2016 12:03:00 AM</td>\n",
       "      <td>20160000014</td>\n",
       "      <td>C</td>\n",
       "      <td>83</td>\n",
       "      <td>Shots Fired</td>\n",
       "      <td>P</td>\n",
       "      <td>PROGRESS</td>\n",
       "      <td>10</td>\n",
       "      <td>NO RESPONSE</td>\n",
       "      <td>3100.0</td>\n",
       "      <td>COUNTRY LAWN DR</td>\n",
       "      <td>330C</td>\n",
       "      <td>S</td>\n",
       "      <td>35</td>\n",
       "      <td>8975.0</td>\n",
       "      <td>36.072</td>\n",
       "      <td>-86.603</td>\n",
       "      <td>(36.072, -86.603)</td>\n",
       "      <td>2016</td>\n",
       "    </tr>\n",
       "    <tr>\n",
       "      <th>16</th>\n",
       "      <td>PD201600000019</td>\n",
       "      <td>01/01/2016 12:05:00 AM</td>\n",
       "      <td>20160000070</td>\n",
       "      <td>C</td>\n",
       "      <td>83</td>\n",
       "      <td>Shots Fired</td>\n",
       "      <td>P</td>\n",
       "      <td>PROGRESS</td>\n",
       "      <td>5</td>\n",
       "      <td>GONE ON ARRIVAL</td>\n",
       "      <td>3400.0</td>\n",
       "      <td>TISDALL DR</td>\n",
       "      <td>625C</td>\n",
       "      <td>N</td>\n",
       "      <td>27</td>\n",
       "      <td>3223.0</td>\n",
       "      <td>36.238</td>\n",
       "      <td>-86.808</td>\n",
       "      <td>(36.238, -86.808)</td>\n",
       "      <td>2016</td>\n",
       "    </tr>\n",
       "    <tr>\n",
       "      <th>24</th>\n",
       "      <td>PD201600000029</td>\n",
       "      <td>01/01/2016 12:07:00 AM</td>\n",
       "      <td>20160000057</td>\n",
       "      <td>C</td>\n",
       "      <td>83</td>\n",
       "      <td>Shots Fired</td>\n",
       "      <td>P</td>\n",
       "      <td>PROGRESS</td>\n",
       "      <td>5</td>\n",
       "      <td>GONE ON ARRIVAL</td>\n",
       "      <td>500.0</td>\n",
       "      <td>MILL STATION DR</td>\n",
       "      <td>627C</td>\n",
       "      <td>N</td>\n",
       "      <td>21</td>\n",
       "      <td>3023.0</td>\n",
       "      <td>36.228</td>\n",
       "      <td>-86.800</td>\n",
       "      <td>(36.228, -86.8)</td>\n",
       "      <td>2016</td>\n",
       "    </tr>\n",
       "    <tr>\n",
       "      <th>27</th>\n",
       "      <td>PD201600000033</td>\n",
       "      <td>01/01/2016 12:08:00 AM</td>\n",
       "      <td>20160000041</td>\n",
       "      <td>C</td>\n",
       "      <td>83</td>\n",
       "      <td>Shots Fired</td>\n",
       "      <td>P</td>\n",
       "      <td>PROGRESS</td>\n",
       "      <td>10</td>\n",
       "      <td>NO RESPONSE</td>\n",
       "      <td>1400.0</td>\n",
       "      <td>LITTON AV</td>\n",
       "      <td>217C</td>\n",
       "      <td>E</td>\n",
       "      <td>17</td>\n",
       "      <td>1413.0</td>\n",
       "      <td>36.202</td>\n",
       "      <td>-86.731</td>\n",
       "      <td>(36.202, -86.731)</td>\n",
       "      <td>2016</td>\n",
       "    </tr>\n",
       "  </tbody>\n",
       "</table>\n",
       "</div>"
      ],
      "text/plain": [
       "      Event Number           Call Received  Complaint Number Shift  Tencode  \\\n",
       "7   PD201600000008  01/01/2016 12:02:00 AM       20160000011     C       83   \n",
       "13  PD201600000015  01/01/2016 12:03:00 AM       20160000014     C       83   \n",
       "16  PD201600000019  01/01/2016 12:05:00 AM       20160000070     C       83   \n",
       "24  PD201600000029  01/01/2016 12:07:00 AM       20160000057     C       83   \n",
       "27  PD201600000033  01/01/2016 12:08:00 AM       20160000041     C       83   \n",
       "\n",
       "   Tencode Description Tencode Suffix Tencode Suffix Description  \\\n",
       "7          Shots Fired              P                   PROGRESS   \n",
       "13         Shots Fired              P                   PROGRESS   \n",
       "16         Shots Fired              P                   PROGRESS   \n",
       "24         Shots Fired              P                   PROGRESS   \n",
       "27         Shots Fired              P                   PROGRESS   \n",
       "\n",
       "    Disposition Code Disposition Description   Block       Street Name  \\\n",
       "7                  5         GONE ON ARRIVAL  2500.0         SANTI AV    \n",
       "13                10             NO RESPONSE  3100.0  COUNTRY LAWN DR    \n",
       "16                 5         GONE ON ARRIVAL  3400.0       TISDALL DR    \n",
       "24                 5         GONE ON ARRIVAL   500.0  MILL STATION DR    \n",
       "27                10             NO RESPONSE  1400.0        LITTON AV    \n",
       "\n",
       "   Unit Dispatched Sector Zone     RPA  Latitude  Longitude  \\\n",
       "7             613C      N   13  4463.0    36.179    -86.818   \n",
       "13            330C      S   35  8975.0    36.072    -86.603   \n",
       "16            625C      N   27  3223.0    36.238    -86.808   \n",
       "24            627C      N   21  3023.0    36.228    -86.800   \n",
       "27            217C      E   17  1413.0    36.202    -86.731   \n",
       "\n",
       "      Mapped Location  year  \n",
       "7   (36.179, -86.818)  2016  \n",
       "13  (36.072, -86.603)  2016  \n",
       "16  (36.238, -86.808)  2016  \n",
       "24    (36.228, -86.8)  2016  \n",
       "27  (36.202, -86.731)  2016  "
      ]
     },
     "execution_count": 22,
     "metadata": {},
     "output_type": "execute_result"
    }
   ],
   "source": [
    "real_shots.head()"
   ]
  },
  {
   "cell_type": "code",
   "execution_count": 23,
   "metadata": {},
   "outputs": [
    {
     "name": "stderr",
     "output_type": "stream",
     "text": [
      "/opt/anaconda3/lib/python3.7/site-packages/pandas/core/frame.py:3997: SettingWithCopyWarning: \n",
      "A value is trying to be set on a copy of a slice from a DataFrame\n",
      "\n",
      "See the caveats in the documentation: https://pandas.pydata.org/pandas-docs/stable/user_guide/indexing.html#returning-a-view-versus-a-copy\n",
      "  errors=errors,\n"
     ]
    }
   ],
   "source": [
    "# Since this is jost of 'shots fired,' we can drop Tencode and Tencode Description.\n",
    "# To clean up the dataframe, I'll also drop Event Number, Complaint Number, Tencode Suffix and Tencode Suffix Description. \n",
    "# We will also drop Street Name, Unit Dispatched, as well as Latitude and Longitude.\n",
    "real_shots.drop(['Event Number', 'Call Received', 'Complaint Number', 'Tencode',\n",
    "       'Tencode Description', 'Tencode Suffix', 'Tencode Suffix Description',\n",
    "       'Street Name', 'Unit Dispatched', 'Latitude', 'Longitude'], axis=1, inplace=True)"
   ]
  },
  {
   "cell_type": "code",
   "execution_count": 24,
   "metadata": {},
   "outputs": [
    {
     "data": {
      "text/html": [
       "<div>\n",
       "<style scoped>\n",
       "    .dataframe tbody tr th:only-of-type {\n",
       "        vertical-align: middle;\n",
       "    }\n",
       "\n",
       "    .dataframe tbody tr th {\n",
       "        vertical-align: top;\n",
       "    }\n",
       "\n",
       "    .dataframe thead th {\n",
       "        text-align: right;\n",
       "    }\n",
       "</style>\n",
       "<table border=\"1\" class=\"dataframe\">\n",
       "  <thead>\n",
       "    <tr style=\"text-align: right;\">\n",
       "      <th></th>\n",
       "      <th>Shift</th>\n",
       "      <th>Disposition Code</th>\n",
       "      <th>Disposition Description</th>\n",
       "      <th>Block</th>\n",
       "      <th>Sector</th>\n",
       "      <th>Zone</th>\n",
       "      <th>RPA</th>\n",
       "      <th>Mapped Location</th>\n",
       "      <th>year</th>\n",
       "    </tr>\n",
       "  </thead>\n",
       "  <tbody>\n",
       "    <tr>\n",
       "      <th>7</th>\n",
       "      <td>C</td>\n",
       "      <td>5</td>\n",
       "      <td>GONE ON ARRIVAL</td>\n",
       "      <td>2500.0</td>\n",
       "      <td>N</td>\n",
       "      <td>13</td>\n",
       "      <td>4463.0</td>\n",
       "      <td>(36.179, -86.818)</td>\n",
       "      <td>2016</td>\n",
       "    </tr>\n",
       "    <tr>\n",
       "      <th>13</th>\n",
       "      <td>C</td>\n",
       "      <td>10</td>\n",
       "      <td>NO RESPONSE</td>\n",
       "      <td>3100.0</td>\n",
       "      <td>S</td>\n",
       "      <td>35</td>\n",
       "      <td>8975.0</td>\n",
       "      <td>(36.072, -86.603)</td>\n",
       "      <td>2016</td>\n",
       "    </tr>\n",
       "    <tr>\n",
       "      <th>16</th>\n",
       "      <td>C</td>\n",
       "      <td>5</td>\n",
       "      <td>GONE ON ARRIVAL</td>\n",
       "      <td>3400.0</td>\n",
       "      <td>N</td>\n",
       "      <td>27</td>\n",
       "      <td>3223.0</td>\n",
       "      <td>(36.238, -86.808)</td>\n",
       "      <td>2016</td>\n",
       "    </tr>\n",
       "    <tr>\n",
       "      <th>24</th>\n",
       "      <td>C</td>\n",
       "      <td>5</td>\n",
       "      <td>GONE ON ARRIVAL</td>\n",
       "      <td>500.0</td>\n",
       "      <td>N</td>\n",
       "      <td>21</td>\n",
       "      <td>3023.0</td>\n",
       "      <td>(36.228, -86.8)</td>\n",
       "      <td>2016</td>\n",
       "    </tr>\n",
       "    <tr>\n",
       "      <th>27</th>\n",
       "      <td>C</td>\n",
       "      <td>10</td>\n",
       "      <td>NO RESPONSE</td>\n",
       "      <td>1400.0</td>\n",
       "      <td>E</td>\n",
       "      <td>17</td>\n",
       "      <td>1413.0</td>\n",
       "      <td>(36.202, -86.731)</td>\n",
       "      <td>2016</td>\n",
       "    </tr>\n",
       "  </tbody>\n",
       "</table>\n",
       "</div>"
      ],
      "text/plain": [
       "   Shift  Disposition Code Disposition Description   Block Sector Zone  \\\n",
       "7      C                 5         GONE ON ARRIVAL  2500.0      N   13   \n",
       "13     C                10             NO RESPONSE  3100.0      S   35   \n",
       "16     C                 5         GONE ON ARRIVAL  3400.0      N   27   \n",
       "24     C                 5         GONE ON ARRIVAL   500.0      N   21   \n",
       "27     C                10             NO RESPONSE  1400.0      E   17   \n",
       "\n",
       "       RPA    Mapped Location  year  \n",
       "7   4463.0  (36.179, -86.818)  2016  \n",
       "13  8975.0  (36.072, -86.603)  2016  \n",
       "16  3223.0  (36.238, -86.808)  2016  \n",
       "24  3023.0    (36.228, -86.8)  2016  \n",
       "27  1413.0  (36.202, -86.731)  2016  "
      ]
     },
     "execution_count": 24,
     "metadata": {},
     "output_type": "execute_result"
    }
   ],
   "source": [
    "real_shots.head()"
   ]
  },
  {
   "cell_type": "code",
   "execution_count": 25,
   "metadata": {},
   "outputs": [
    {
     "data": {
      "text/plain": [
       "(9901, 9)"
      ]
     },
     "execution_count": 25,
     "metadata": {},
     "output_type": "execute_result"
    }
   ],
   "source": [
    "real_shots.shape"
   ]
  },
  {
   "cell_type": "markdown",
   "metadata": {},
   "source": [
    "#### Visualizations"
   ]
  },
  {
   "cell_type": "markdown",
   "metadata": {},
   "source": [
    "Now that we've wrangled the data and cleaned it up quite a bit, let's take a look at some data of the tencode for 'Shots Fired.'\n",
    "\n",
    "A few audiences will find this especially useful:\n",
    "- Nashville homeowners and future Nashville homeowners\n",
    "- Police department decision makers\n",
    "- The greater Nashville community\n",
    "\n",
    "Data can be slippery. A few caveats before we start:\n",
    "- Even though we cleaned the data, this is not a perfect picture of the data.\n",
    "- The data looks to be collected very well. We are assuming this is the case.\n",
    "- Not every 'shot fired' is reported. Some may not report the shots to preserve home values. Others may become so used to it that every shot fired is simply not reported.\n",
    "\n",
    "That said, let's look at the data."
   ]
  },
  {
   "cell_type": "code",
   "execution_count": 26,
   "metadata": {},
   "outputs": [
    {
     "data": {
      "image/png": "[encoded data removed]",
      "text/plain": [
       "<Figure size 432x288 with 1 Axes>"
      ]
     },
     "metadata": {
      "needs_background": "light"
     },
     "output_type": "display_data"
    }
   ],
   "source": [
    "g = sns.countplot(x='Shift', data=real_shots).set_title('Count of Shots Fired by Shift')"
   ]
  },
  {
   "cell_type": "markdown",
   "metadata": {},
   "source": [
    "I looked up how the Nasville Police Department defines their shifts. I found my best answer here:\n",
    "https://www.nashville.gov/Police-Department/Precincts/East-Precinct.aspx\n",
    "\n",
    "I'll summarize that here.\n",
    "\n",
    "A Shift:\n",
    "6:30 a.m.-3:00 p.m.\n",
    "\n",
    "B Shift:\n",
    "2:30 p.m.-11:00 p.m.\n",
    "\n",
    "C Shift:\n",
    "10:30 p.m.-7:00 a.m."
   ]
  },
  {
   "cell_type": "code",
   "execution_count": 29,
   "metadata": {},
   "outputs": [
    {
     "data": {
      "text/plain": [
       "Text(0.5, 1.0, 'Shots Fired by Sector & Grouped By Year')"
      ]
     },
     "execution_count": 29,
     "metadata": {},
     "output_type": "execute_result"
    },
    {
     "data": {
      "image/png": "[encoded data removed]",
      "text/plain": [
       "<Figure size 432x288 with 1 Axes>"
      ]
     },
     "metadata": {
      "needs_background": "light"
     },
     "output_type": "display_data"
    }
   ],
   "source": [
    "sns.countplot(data=real_shots, x='Sector', hue='year').set_title('Shots Fired by Sector & Grouped By Year')"
   ]
  },
  {
   "cell_type": "markdown",
   "metadata": {},
   "source": [
    "Odd.\n",
    "\n",
    "I pulled the years from the event number, but that may have been a mistake. I assumed that the event number correlated with the year of the incident. However, I only pulled the datasets from 2016-2020. There's no reason why I should have data from 2012-2015 in my results. \n",
    "\n",
    "I did some digging, and it looks like a lot of our problem is from df20. I'm going to drop this dataframe and re-reun the entire notebook."
   ]
  },
  {
   "cell_type": "code",
   "execution_count": 28,
   "metadata": {},
   "outputs": [
    {
     "data": {
      "text/plain": [
       "2017    2794\n",
       "2019    2691\n",
       "2016    2544\n",
       "2018    1872\n",
       "Name: year, dtype: int64"
      ]
     },
     "execution_count": 28,
     "metadata": {},
     "output_type": "execute_result"
    }
   ],
   "source": [
    "real_shots['year'].value_counts()"
   ]
  },
  {
   "cell_type": "markdown",
   "metadata": {},
   "source": [
    "A few observations at this point:\n",
    "- 2018 was down significantly in 'Shots Fired.'\n",
    "- It bucks the trend, so I would want to do more research on that year before concluding anything.\n",
    "- The same goes for 2019 in the 'S' sector. \n",
    "- This doesn't mean much until we overlay population density over each sector. \n",
    "- That said, N, S, E and H all have higher 'shots fired' counts.\n",
    "- M, MT, W and C all have lower shots fired counts."
   ]
  },
  {
   "cell_type": "code",
   "execution_count": 30,
   "metadata": {},
   "outputs": [
    {
     "data": {
      "text/plain": [
       "Text(0.5, 1.0, 'Counts of Shots Fired Per Year for All Nashville')"
      ]
     },
     "execution_count": 30,
     "metadata": {},
     "output_type": "execute_result"
    },
    {
     "data": {
      "image/png": "[encoded data removed]",
      "text/plain": [
       "<Figure size 432x288 with 1 Axes>"
      ]
     },
     "metadata": {
      "needs_background": "light"
     },
     "output_type": "display_data"
    }
   ],
   "source": [
    "sns.countplot(data=real_shots, x='year').set_title('Counts of Shots Fired Per Year for All Nashville')"
   ]
  },
  {
   "cell_type": "markdown",
   "metadata": {},
   "source": [
    "From year to year, the count of 'shots fired' in Nashville has't changed much. 2018, as mentioned before, seems to be an outlier. That is an area for more research. Is it a fluke or did something really happen that year to change 'shots fired' counts by 20%."
   ]
  },
  {
   "cell_type": "code",
   "execution_count": 34,
   "metadata": {},
   "outputs": [
    {
     "data": {
      "text/plain": [
       "Text(0.5, 1.0, 'Shots Fired by Zone')"
      ]
     },
     "execution_count": 34,
     "metadata": {},
     "output_type": "execute_result"
    },
    {
     "data": {
      "image/png": "[encoded data removed]",
      "text/plain": [
       "<Figure size 432x288 with 1 Axes>"
      ]
     },
     "metadata": {
      "needs_background": "light"
     },
     "output_type": "display_data"
    }
   ],
   "source": [
    "sns.countplot(data=real_shots, y='Zone', hue='year').set_title('Shots Fired by Zone')"
   ]
  },
  {
   "cell_type": "markdown",
   "metadata": {},
   "source": [
    "Interesting. \n",
    "\n",
    "The results are being split because the column has both float and integers, which are being recognized as different numbers. Let's change that real quick."
   ]
  },
  {
   "cell_type": "code",
   "execution_count": 40,
   "metadata": {},
   "outputs": [
    {
     "data": {
      "text/plain": [
       "Shift                       object\n",
       "Disposition Code             int64\n",
       "Disposition Description     object\n",
       "Block                      float64\n",
       "Sector                      object\n",
       "Zone                        object\n",
       "RPA                        float64\n",
       "Mapped Location             object\n",
       "year                        object\n",
       "dtype: object"
      ]
     },
     "execution_count": 40,
     "metadata": {},
     "output_type": "execute_result"
    }
   ],
   "source": [
    "real_shots.dtypes"
   ]
  },
  {
   "cell_type": "code",
   "execution_count": 41,
   "metadata": {},
   "outputs": [
    {
     "name": "stderr",
     "output_type": "stream",
     "text": [
      "/opt/anaconda3/lib/python3.7/site-packages/ipykernel_launcher.py:1: SettingWithCopyWarning: \n",
      "A value is trying to be set on a copy of a slice from a DataFrame.\n",
      "Try using .loc[row_indexer,col_indexer] = value instead\n",
      "\n",
      "See the caveats in the documentation: https://pandas.pydata.org/pandas-docs/stable/user_guide/indexing.html#returning-a-view-versus-a-copy\n",
      "  \"\"\"Entry point for launching an IPython kernel.\n"
     ]
    },
    {
     "data": {
      "text/plain": [
       "Shift                       object\n",
       "Disposition Code             int64\n",
       "Disposition Description     object\n",
       "Block                      float64\n",
       "Sector                      object\n",
       "Zone                       float64\n",
       "RPA                        float64\n",
       "Mapped Location             object\n",
       "year                        object\n",
       "dtype: object"
      ]
     },
     "execution_count": 41,
     "metadata": {},
     "output_type": "execute_result"
    }
   ],
   "source": [
    "real_shots['Zone'] = real_shots['Zone'].astype(float)\n",
    "real_shots.dtypes"
   ]
  },
  {
   "cell_type": "code",
   "execution_count": 43,
   "metadata": {},
   "outputs": [
    {
     "data": {
      "text/plain": [
       "21.0    1431\n",
       "11.0    1244\n",
       "13.0    1076\n",
       "25.0    1042\n",
       "23.0    1022\n",
       "15.0     886\n",
       "35.0     659\n",
       "17.0     619\n",
       "31.0     593\n",
       "33.0     378\n",
       "27.0     375\n",
       "Name: Zone, dtype: int64"
      ]
     },
     "execution_count": 43,
     "metadata": {},
     "output_type": "execute_result"
    }
   ],
   "source": [
    "real_shots['Zone'].value_counts()"
   ]
  },
  {
   "cell_type": "code",
   "execution_count": 44,
   "metadata": {},
   "outputs": [
    {
     "data": {
      "text/plain": [
       "Text(0.5, 1.0, 'Shots Fired by Zone')"
      ]
     },
     "execution_count": 44,
     "metadata": {},
     "output_type": "execute_result"
    },
    {
     "data": {
      "image/png": "[encoded data removed]",
      "text/plain": [
       "<Figure size 432x288 with 1 Axes>"
      ]
     },
     "metadata": {
      "needs_background": "light"
     },
     "output_type": "display_data"
    }
   ],
   "source": [
    "# That should do it. Let's try this again.\n",
    "sns.countplot(data=real_shots, y='Zone', hue='year').set_title('Shots Fired by Zone')"
   ]
  },
  {
   "cell_type": "markdown",
   "metadata": {},
   "source": [
    "A few observations:\n",
    "- The zones with the least shots fired were 27, 31 and 33.\n",
    "- The zones with the highest amount were 21, 11 and 13 (though 23 and 25 were just as close to 13)\n",
    "- There was a significant jump in shots fired in zones 31 and 35. Why is this?\n",
    "- There seemed to be a distinct drop in shots fired over the four years in 15 and 17."
   ]
  },
  {
   "cell_type": "code",
   "execution_count": 45,
   "metadata": {},
   "outputs": [
    {
     "data": {
      "text/plain": [
       "Text(0.5, 1.0, 'Shots Fired by Sector & Grouped By Shift')"
      ]
     },
     "execution_count": 45,
     "metadata": {},
     "output_type": "execute_result"
    },
    {
     "data": {
      "image/png": "[encoded data removed]",
      "text/plain": [
       "<Figure size 432x288 with 1 Axes>"
      ]
     },
     "metadata": {
      "needs_background": "light"
     },
     "output_type": "display_data"
    }
   ],
   "source": [
    "sns.countplot(data=real_shots, x='Sector', hue='Shift').set_title('Shots Fired by Sector & Grouped By Shift')"
   ]
  },
  {
   "cell_type": "code",
   "execution_count": 46,
   "metadata": {},
   "outputs": [
    {
     "data": {
      "text/plain": [
       "Text(0.5, 1.0, 'Shots Fired by Sector & Grouped By Year')"
      ]
     },
     "execution_count": 46,
     "metadata": {},
     "output_type": "execute_result"
    },
    {
     "data": {
      "image/png": "[encoded data removed]",
      "text/plain": [
       "<Figure size 432x288 with 1 Axes>"
      ]
     },
     "metadata": {
      "needs_background": "light"
     },
     "output_type": "display_data"
    }
   ],
   "source": [
    "#Let's see that first graph again so we can compare the two.\n",
    "sns.countplot(data=real_shots, x='Sector', hue='year').set_title('Shots Fired by Sector & Grouped By Year')"
   ]
  },
  {
   "cell_type": "code",
   "execution_count": null,
   "metadata": {},
   "outputs": [],
   "source": []
  }
 ],
 "metadata": {
  "kernelspec": {
   "display_name": "Python 3",
   "language": "python",
   "name": "python3"
  },
  "language_info": {
   "codemirror_mode": {
    "name": "ipython",
    "version": 3
   },
   "file_extension": ".py",
   "mimetype": "text/x-python",
   "name": "python",
   "nbconvert_exporter": "python",
   "pygments_lexer": "ipython3",
   "version": "3.7.6"
  }
 },
 "nbformat": 4,
 "nbformat_minor": 4
}
